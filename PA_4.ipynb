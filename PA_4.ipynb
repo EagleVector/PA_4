{
 "cells": [
  {
   "cell_type": "markdown",
   "id": "205b2d45",
   "metadata": {},
   "source": [
    "Q1.Write a Python Program to Find the Factorial of a Number?"
   ]
  },
  {
   "cell_type": "code",
   "execution_count": 12,
   "id": "01a02ff6",
   "metadata": {},
   "outputs": [
    {
     "name": "stdout",
     "output_type": "stream",
     "text": [
      "Enter a number: 9\n",
      "Factorial of the given number is 362880\n"
     ]
    }
   ],
   "source": [
    "def fact(n):\n",
    "    if n == 1:\n",
    "        return 1\n",
    "    else:\n",
    "        return n * fact(n - 1)\n",
    "    \n",
    "num = int(input(\"Enter a number: \"))\n",
    "\n",
    "if num < 0:\n",
    "    print(\"Factorial of a negative number does not exist\")\n",
    "    \n",
    "elif num == 0:\n",
    "    print(\"Factorial of 0 is 1\")\n",
    "    \n",
    "else:\n",
    "    print(\"Factorial of the given number is\",fact(num))"
   ]
  },
  {
   "cell_type": "markdown",
   "id": "2b34f5cc",
   "metadata": {},
   "source": [
    "Q2.Write a Python Program to Display the multiplication Table?"
   ]
  },
  {
   "cell_type": "code",
   "execution_count": 11,
   "id": "3a9ebef9",
   "metadata": {},
   "outputs": [
    {
     "name": "stdout",
     "output_type": "stream",
     "text": [
      "Enter the number: 9\n",
      "9 * 1 = 9\n",
      "9 * 2 = 18\n",
      "9 * 3 = 27\n",
      "9 * 4 = 36\n",
      "9 * 5 = 45\n",
      "9 * 6 = 54\n",
      "9 * 7 = 63\n",
      "9 * 8 = 72\n",
      "9 * 9 = 81\n",
      "9 * 10 = 90\n"
     ]
    }
   ],
   "source": [
    "def multi_table(n):\n",
    "    for i in range(1,11):\n",
    "        print(n,\"*\",i,\"=\",n*i)\n",
    "        \n",
    "num = int(input(\"Enter the number: \"))\n",
    "\n",
    "multi_table(num)"
   ]
  },
  {
   "cell_type": "markdown",
   "id": "7fc41597",
   "metadata": {},
   "source": [
    "Q3.Write a Python Program to Print the Fibonacci sequence?"
   ]
  },
  {
   "cell_type": "code",
   "execution_count": 23,
   "id": "2abc17d0",
   "metadata": {},
   "outputs": [
    {
     "name": "stdout",
     "output_type": "stream",
     "text": [
      "Enter the count of values: 10\n",
      "0 1 1 2 3 5 8 13 21 34 "
     ]
    }
   ],
   "source": [
    "def fib(n):\n",
    "    if n <= 1:\n",
    "        return n\n",
    "    else:\n",
    "        return (fib(n - 1) + fib(n - 2))\n",
    "    \n",
    "count = int(input(\"Enter the count of values: \"))\n",
    "if count <= 2:\n",
    "    print(\"Please enter the value greater than 2\")\n",
    "else:\n",
    "    for i in range(count):\n",
    "        print(fib(i),end = \" \")"
   ]
  },
  {
   "cell_type": "markdown",
   "id": "cb3a7935",
   "metadata": {},
   "source": [
    "Q4.Write a Python Program to Check Armstrong Number?"
   ]
  },
  {
   "cell_type": "code",
   "execution_count": 17,
   "id": "5ee75a51",
   "metadata": {},
   "outputs": [
    {
     "name": "stdout",
     "output_type": "stream",
     "text": [
      "Enter the number: 407\n",
      "Given number is ARMSTRONG\n"
     ]
    }
   ],
   "source": [
    "def check_armstrong(n):\n",
    "    order = len(str(num))\n",
    "    sum = 0\n",
    "    temp = num\n",
    "    while temp > 0:\n",
    "        digit = temp % 10\n",
    "        sum = sum + digit ** order\n",
    "        temp = temp // 10\n",
    "    \n",
    "    if sum == num:\n",
    "        print(\"Given number is ARMSTRONG\")\n",
    "        \n",
    "    else:\n",
    "        print(\"Given number is not ARMSTRONG\")\n",
    "        \n",
    "num = int(input(\"Enter the number: \"))\n",
    "\n",
    "check_armstrong(num)"
   ]
  },
  {
   "cell_type": "markdown",
   "id": "c84ffed1",
   "metadata": {},
   "source": [
    "Q5. Write a Python Program to Find Armstrong Number in an Interval?"
   ]
  },
  {
   "cell_type": "code",
   "execution_count": 3,
   "id": "83bb57fc",
   "metadata": {},
   "outputs": [
    {
     "name": "stdout",
     "output_type": "stream",
     "text": [
      "1\n",
      "2\n",
      "3\n",
      "4\n",
      "5\n",
      "6\n",
      "7\n",
      "8\n",
      "9\n",
      "153\n",
      "370\n",
      "371\n",
      "407\n"
     ]
    }
   ],
   "source": [
    "def Armstrong_in_range(lower,upper):\n",
    "    for i in range(lower,upper + 1):\n",
    "        order = len(str(i))\n",
    "        sum = 0\n",
    "        temp = i\n",
    "        while temp > 0:\n",
    "            digit = temp % 10\n",
    "            sum = sum + digit ** order\n",
    "            temp = temp // 10\n",
    "            \n",
    "        if sum == i:\n",
    "            print(i)\n",
    "            \n",
    "Armstrong_in_range(1,1000)"
   ]
  },
  {
   "cell_type": "markdown",
   "id": "a7f4c21e",
   "metadata": {},
   "source": [
    "Q6.Write a Python Program to Find the Sum of Natural Numbers?"
   ]
  },
  {
   "cell_type": "code",
   "execution_count": 4,
   "id": "5fe3260c",
   "metadata": {},
   "outputs": [
    {
     "name": "stdout",
     "output_type": "stream",
     "text": [
      "Enter the range: 10\n",
      "sum of natural numbers is:  55\n"
     ]
    }
   ],
   "source": [
    "def sum_natural(n):\n",
    "    if n == 1:\n",
    "        return 1\n",
    "    else:\n",
    "        return n + sum_natural(n - 1)\n",
    "    \n",
    "num = int(input(\"Enter the range: \"))\n",
    "\n",
    "print(\"sum of natural numbers is: \",sum_natural(num))"
   ]
  }
 ],
 "metadata": {
  "kernelspec": {
   "display_name": "Python 3 (ipykernel)",
   "language": "python",
   "name": "python3"
  },
  "language_info": {
   "codemirror_mode": {
    "name": "ipython",
    "version": 3
   },
   "file_extension": ".py",
   "mimetype": "text/x-python",
   "name": "python",
   "nbconvert_exporter": "python",
   "pygments_lexer": "ipython3",
   "version": "3.9.7"
  }
 },
 "nbformat": 4,
 "nbformat_minor": 5
}
